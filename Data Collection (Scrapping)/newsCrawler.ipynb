{
 "cells": [
  {
   "cell_type": "code",
   "execution_count": 22,
   "metadata": {},
   "outputs": [],
   "source": [
    "import csv\n",
    "import requests\n",
    "from bs4 import BeautifulSoup\n",
    "\n",
    "\n",
    "\n",
    "with open('./news_results.csv', 'w', encoding='utf-8') as csvfile:\n",
    "    csvwriter = csv.writer(csvfile)\n",
    "    csvwriter.writerow(['news_title','news_link'])\n",
    "\n",
    "for start_num in range(1,102,10):\n",
    "    search = '코로나'\n",
    "    URL = f'https://search.naver.com/search.naver?where=news&sm=tab_pge&query={search}&sort=0&photo=0&field=0&pd=0&ds=&de=&cluster_rank=74&mynews=0&office_type=0&office_section_code=0&news_office_checked=&nso=so:r,p:all,a:all&start={start_num}'\n",
    "    response = requests.get(URL)\n",
    "\n",
    "\n",
    "    soup = BeautifulSoup(response.text, 'html.parser')\n",
    "\n",
    "    news_list = soup.select(\n",
    "        'main_pack > section.sc_new.sp_nnews._prs_nws > div > div.group_news > ul > li')\n",
    "    print(news_list)\n",
    "    for news in news_list:\n",
    "        \n",
    "        news_data = news.select_one('div > div > a.news_tit')\n",
    "        news_link = news_data['href']\n",
    "        news_title = news_data['title']\n",
    "\n",
    "\n",
    "\n",
    "        with open('./news_result.csv', 'a', encoding='utf-8') as csvfile:\n",
    "            csvwriter = csv.writer(csvfile)\n",
    "            csvwriter.writerow([news_title,news_link])\n",
    "            "
   ]
  },
  {
   "cell_type": "code",
   "execution_count": null,
   "metadata": {},
   "outputs": [],
   "source": []
  }
 ],
 "metadata": {
  "language_info": {
   "name": "python",
   "nbconvert_exporter": "python"
  },
  "orig_nbformat": 4
 },
 "nbformat": 4,
 "nbformat_minor": 2
}