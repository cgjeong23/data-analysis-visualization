{
 "cells": [
  {
   "cell_type": "code",
   "execution_count": 64,
   "metadata": {},
   "outputs": [],
   "source": [
    "def read_seq(inputFile):\n",
    "    with open(inputFile, 'r') as f:\n",
    "        sequence = f.read()\n",
    "    sequence = sequence.replace(' ','')\n",
    "    sequence = sequence.replace('\\n','')\n",
    "    sequence = sequence.replace('\\r','')\n",
    "    return sequence"
   ]
  },
  {
   "cell_type": "code",
   "execution_count": 65,
   "metadata": {},
   "outputs": [],
   "source": [
    "def convert(info):\n",
    "\n",
    "    \n",
    "\n",
    "    table = {\n",
    "'TTT': 'F', 'TTC': 'F', 'TTA': 'L', 'TTG': 'L', 'TCT': 'S',\n",
    "'TCC': 'S', 'TCA': 'S', 'TCG': 'S', 'TAT': 'Y', 'TAC': 'Y',\n",
    "'TGT': 'C', 'TGC': 'C', 'TGG': 'W', 'CTT': 'L', 'CTC': 'L',\n",
    "'CTA': 'L', 'CTG': 'L', 'CCT': 'P', 'CCC': 'P', 'CCA': 'P',\n",
    "'CCG': 'P', 'CAT': 'H', 'CAC': 'H', 'CAA': 'Q', 'CAG': 'Q',\n",
    "'CGT': 'R', 'CGC': 'R', 'CGA': 'R', 'CGG': 'R', 'ATT': 'I',\n",
    "'ATC': 'I', 'ATA': 'I', 'ATG': 'M', 'ACT': 'T', 'ACC': 'T',\n",
    "'ACA': 'T', 'ACG': 'T', 'AAT': 'N', 'AAC': 'N', 'AAA': 'K',\n",
    "'AAG': 'K', 'AGT': 'S', 'AGC': 'S', 'AGA': 'R', 'AGG': 'R',\n",
    "'GTT': 'V', 'GTC': 'V', 'GTA': 'V', 'GTG': 'V', 'GCT': 'A',\n",
    "'GCC': 'A', 'GCA': 'A', 'GCG': 'A', 'GAT': 'D', 'GAC': 'D',\n",
    "'GAA': 'E', 'GAG': 'E', 'GGT': 'G', 'GGC': 'G', 'GGA': 'G',\n",
    "'GGG': 'G', 'TAA': '_', 'TAG': '_', 'TGA': '_'}\n",
    "\n",
    "\n",
    "    amino = [(info[k:k+3]) for k in range(0, len(info), 3)]\n",
    "    protein = ''\n",
    "    for codon in amino:\n",
    "        protein += table[codon]\n",
    "  \n",
    "      \n",
    "    return protein"
   ]
  },
  {
   "cell_type": "code",
   "execution_count": 66,
   "metadata": {},
   "outputs": [
    {
     "name": "stdout",
     "output_type": "stream",
     "text": [
      "correct\n"
     ]
    }
   ],
   "source": [
    "with open('NM_207618.2.fasta','r') as inf:\n",
    "    data = inf.read().splitlines(True)\n",
    "with open('result_data.txt', 'w') as outf:\n",
    "    outf.writelines(data[1:])\n",
    "\n",
    "dna = read_seq('result_data.txt')\n",
    "result = convert(dna[20:935])\n",
    "\n",
    "protein = read_seq('solution_data.txt')\n",
    "\n",
    "if result == protein:\n",
    "    print(\"correct\")\n",
    "else:\n",
    "    print(\"Sorry\")\n",
    "\n"
   ]
  }
 ],
 "metadata": {
  "interpreter": {
   "hash": "31f2aee4e71d21fbe5cf8b01ff0e069b9275f58929596ceb00d14d90e3e16cd6"
  },
  "kernelspec": {
   "display_name": "Python 3.8.2 64-bit",
   "name": "python3"
  },
  "language_info": {
   "name": "python",
   "version": ""
  },
  "orig_nbformat": 4
 },
 "nbformat": 4,
 "nbformat_minor": 2
}