{
 "cells": [
  {
   "cell_type": "code",
   "execution_count": 7,
   "metadata": {},
   "outputs": [],
   "source": [
    "import numpy as np\n",
    "import matplotlib.pyplot as plt\n",
    "import pandas as pd\n",
    "\n"
   ]
  },
  {
   "cell_type": "code",
   "execution_count": 8,
   "metadata": {},
   "outputs": [
    {
     "name": "stdout",
     "output_type": "stream",
     "text": [
      "0    7\n",
      "1    3\n",
      "2    5\n",
      "3    8\n",
      "dtype: int64\n"
     ]
    }
   ],
   "source": [
    "import pandas as pd\n",
    "\n",
    "x = pd.Series([7,3,5,8])\n",
    "print(x)"
   ]
  },
  {
   "cell_type": "code",
   "execution_count": 9,
   "metadata": {},
   "outputs": [
    {
     "name": "stdout",
     "output_type": "stream",
     "text": [
      "광주    8\n",
      "대구    3\n",
      "부산    5\n",
      "서울    7\n",
      "dtype: int64\n"
     ]
    }
   ],
   "source": [
    "import pandas as pd\n",
    "x = pd.Series([7,3,5,8], index=['서울', '대구', '부산', '광주'])\n",
    "x = x.reindex(sorted(x.index))\n",
    "print(x)"
   ]
  },
  {
   "cell_type": "code",
   "execution_count": 10,
   "metadata": {},
   "outputs": [
    {
     "name": "stdout",
     "output_type": "stream",
     "text": [
      "광주     NaN\n",
      "대구     5.0\n",
      "대전     NaN\n",
      "부산     8.0\n",
      "서울    12.0\n",
      "dtype: float64\n"
     ]
    }
   ],
   "source": [
    "import pandas as pd\n",
    "x = pd.Series([7,3,5,8], index=['서울', '대구', '부산', '광주'])\n",
    "y = pd.Series([2,3,5,1], index=['대구', '부산', '서울', '대전'])\n",
    "print(x+y)"
   ]
  },
  {
   "cell_type": "code",
   "execution_count": 11,
   "metadata": {},
   "outputs": [
    {
     "name": "stdout",
     "output_type": "stream",
     "text": [
      "[1 3 2 4]\n"
     ]
    }
   ],
   "source": [
    "medal = [1,3,2,4,2,3]\n",
    "x = pd.Series(medal)\n",
    "print(pd.unique(x))"
   ]
  },
  {
   "cell_type": "code",
   "execution_count": 13,
   "metadata": {},
   "outputs": [
    {
     "name": "stdout",
     "output_type": "stream",
     "text": [
      "채강    5.0\n",
      "리아    4.5\n",
      "민서    4.0\n",
      "지호    1.0\n",
      "dtype: float64\n"
     ]
    }
   ],
   "source": [
    "age = {'채강' : 5, '리아' : 4.5, '민서' : 4, '지호' : 1}\n",
    "x = pd.Series(age)\n",
    "print(x)"
   ]
  },
  {
   "cell_type": "code",
   "execution_count": 17,
   "metadata": {},
   "outputs": [
    {
     "data": {
      "text/html": [
       "<div>\n",
       "<style scoped>\n",
       "    .dataframe tbody tr th:only-of-type {\n",
       "        vertical-align: middle;\n",
       "    }\n",
       "\n",
       "    .dataframe tbody tr th {\n",
       "        vertical-align: top;\n",
       "    }\n",
       "\n",
       "    .dataframe thead th {\n",
       "        text-align: right;\n",
       "    }\n",
       "</style>\n",
       "<table border=\"1\" class=\"dataframe\">\n",
       "  <thead>\n",
       "    <tr style=\"text-align: right;\">\n",
       "      <th></th>\n",
       "      <th>name</th>\n",
       "      <th>age</th>\n",
       "      <th>height</th>\n",
       "    </tr>\n",
       "  </thead>\n",
       "  <tbody>\n",
       "    <tr>\n",
       "      <th>0</th>\n",
       "      <td>민준</td>\n",
       "      <td>23</td>\n",
       "      <td>175.3</td>\n",
       "    </tr>\n",
       "    <tr>\n",
       "      <th>1</th>\n",
       "      <td>현우</td>\n",
       "      <td>43</td>\n",
       "      <td>180.3</td>\n",
       "    </tr>\n",
       "    <tr>\n",
       "      <th>2</th>\n",
       "      <td>서연</td>\n",
       "      <td>12</td>\n",
       "      <td>165.8</td>\n",
       "    </tr>\n",
       "    <tr>\n",
       "      <th>3</th>\n",
       "      <td>동현</td>\n",
       "      <td>45</td>\n",
       "      <td>172.7</td>\n",
       "    </tr>\n",
       "  </tbody>\n",
       "</table>\n",
       "</div>"
      ],
      "text/plain": [
       "  name  age  height\n",
       "0   민준   23   175.3\n",
       "1   현우   43   180.3\n",
       "2   서연   12   165.8\n",
       "3   동현   45   172.7"
      ]
     },
     "execution_count": 17,
     "metadata": {},
     "output_type": "execute_result"
    }
   ],
   "source": [
    "data = {'age':[23,43,12,45],\n",
    "    'name':['민준','현우','서연','동현'],\n",
    "    'height':[175.3,180.3,165.8,172.7]}\n",
    "\n",
    "x=pd.DataFrame(data, columns=['name','age','height'])\n",
    "x"
   ]
  },
  {
   "cell_type": "code",
   "execution_count": 21,
   "metadata": {},
   "outputs": [
    {
     "data": {
      "text/html": [
       "<div>\n",
       "<style scoped>\n",
       "    .dataframe tbody tr th:only-of-type {\n",
       "        vertical-align: middle;\n",
       "    }\n",
       "\n",
       "    .dataframe tbody tr th {\n",
       "        vertical-align: top;\n",
       "    }\n",
       "\n",
       "    .dataframe thead th {\n",
       "        text-align: right;\n",
       "    }\n",
       "</style>\n",
       "<table border=\"1\" class=\"dataframe\">\n",
       "  <thead>\n",
       "    <tr style=\"text-align: right;\">\n",
       "      <th></th>\n",
       "      <th>firts</th>\n",
       "      <th>second</th>\n",
       "    </tr>\n",
       "  </thead>\n",
       "  <tbody>\n",
       "    <tr>\n",
       "      <th>0</th>\n",
       "      <td>1</td>\n",
       "      <td>2</td>\n",
       "    </tr>\n",
       "    <tr>\n",
       "      <th>1</th>\n",
       "      <td>3</td>\n",
       "      <td>4</td>\n",
       "    </tr>\n",
       "  </tbody>\n",
       "</table>\n",
       "</div>"
      ],
      "text/plain": [
       "   firts  second\n",
       "0      1       2\n",
       "1      3       4"
      ]
     },
     "execution_count": 21,
     "metadata": {},
     "output_type": "execute_result"
    }
   ],
   "source": [
    "ary = [[1,2],[3,4],[5,6]]\n",
    "data = pd.DataFrame(ary, columns=['firts','second'])\n",
    "data.head(2)"
   ]
  },
  {
   "cell_type": "code",
   "execution_count": 19,
   "metadata": {},
   "outputs": [
    {
     "data": {
      "text/plain": [
       "firts     3\n",
       "second    4\n",
       "Name: 1, dtype: int64"
      ]
     },
     "execution_count": 19,
     "metadata": {},
     "output_type": "execute_result"
    }
   ],
   "source": [
    "data.iloc[1]"
   ]
  },
  {
   "cell_type": "code",
   "execution_count": null,
   "metadata": {},
   "outputs": [],
   "source": [
    "data[수온] = data['수온'].astype('float')"
   ]
  },
  {
   "cell_type": "code",
   "execution_count": 23,
   "metadata": {},
   "outputs": [
    {
     "data": {
      "text/html": [
       "<div>\n",
       "<style scoped>\n",
       "    .dataframe tbody tr th:only-of-type {\n",
       "        vertical-align: middle;\n",
       "    }\n",
       "\n",
       "    .dataframe tbody tr th {\n",
       "        vertical-align: top;\n",
       "    }\n",
       "\n",
       "    .dataframe thead th {\n",
       "        text-align: right;\n",
       "    }\n",
       "</style>\n",
       "<table border=\"1\" class=\"dataframe\">\n",
       "  <thead>\n",
       "    <tr style=\"text-align: right;\">\n",
       "      <th></th>\n",
       "      <th>한은, 기준금리 동결…\"코로나 불확실성 잠재\"(종합2보)</th>\n",
       "      <th>http://yna.kr/AKR20210715061651002?did=1195m</th>\n",
       "    </tr>\n",
       "  </thead>\n",
       "  <tbody>\n",
       "    <tr>\n",
       "      <th>0</th>\n",
       "      <td>'파병' 청해부대 6명 코로나19 확진…'집단감염' 가능성(종합)</td>\n",
       "      <td>https://www.news1.kr/articles/?4372176</td>\n",
       "    </tr>\n",
       "    <tr>\n",
       "      <th>1</th>\n",
       "      <td>금통위, 코로나 확산에도 금리 인상 시그널..\"통화완화 정도 조정할 것\"(상보)</td>\n",
       "      <td>http://www.edaily.co.kr/news/newspath.asp?news...</td>\n",
       "    </tr>\n",
       "    <tr>\n",
       "      <th>2</th>\n",
       "      <td>한은 금통위, 기준금리 0.5% 동결...코로나 4차 유행 감안</td>\n",
       "      <td>http://www.newsis.com/view/?id=NISX20210715_00...</td>\n",
       "    </tr>\n",
       "    <tr>\n",
       "      <th>3</th>\n",
       "      <td>청해부대서 '코로나19' 6명 확진···합참, 백신 보급도 안해</td>\n",
       "      <td>https://www.khan.co.kr/politics/defense-diplom...</td>\n",
       "    </tr>\n",
       "    <tr>\n",
       "      <th>4</th>\n",
       "      <td>민관 협력해 ‘코로나블루 디지털 치료제’ 개발한다</td>\n",
       "      <td>http://www.busan.com/view/busan/view.php?code=...</td>\n",
       "    </tr>\n",
       "  </tbody>\n",
       "</table>\n",
       "</div>"
      ],
      "text/plain": [
       "                한은, 기준금리 동결…\"코로나 불확실성 잠재\"(종합2보)  \\\n",
       "0          '파병' 청해부대 6명 코로나19 확진…'집단감염' 가능성(종합)   \n",
       "1  금통위, 코로나 확산에도 금리 인상 시그널..\"통화완화 정도 조정할 것\"(상보)   \n",
       "2           한은 금통위, 기준금리 0.5% 동결...코로나 4차 유행 감안   \n",
       "3           청해부대서 '코로나19' 6명 확진···합참, 백신 보급도 안해   \n",
       "4                   민관 협력해 ‘코로나블루 디지털 치료제’ 개발한다   \n",
       "\n",
       "        http://yna.kr/AKR20210715061651002?did=1195m  \n",
       "0             https://www.news1.kr/articles/?4372176  \n",
       "1  http://www.edaily.co.kr/news/newspath.asp?news...  \n",
       "2  http://www.newsis.com/view/?id=NISX20210715_00...  \n",
       "3  https://www.khan.co.kr/politics/defense-diplom...  \n",
       "4  http://www.busan.com/view/busan/view.php?code=...  "
      ]
     },
     "execution_count": 23,
     "metadata": {},
     "output_type": "execute_result"
    }
   ],
   "source": [
    "import pandas as pd\n",
    "news = pd.read_csv('../Data Collection (Scrapping)/news_result.csv')\n",
    "news.head()"
   ]
  },
  {
   "cell_type": "code",
   "execution_count": 24,
   "metadata": {},
   "outputs": [
    {
     "data": {
      "text/html": [
       "<div>\n",
       "<style scoped>\n",
       "    .dataframe tbody tr th:only-of-type {\n",
       "        vertical-align: middle;\n",
       "    }\n",
       "\n",
       "    .dataframe tbody tr th {\n",
       "        vertical-align: top;\n",
       "    }\n",
       "\n",
       "    .dataframe thead th {\n",
       "        text-align: right;\n",
       "    }\n",
       "</style>\n",
       "<table border=\"1\" class=\"dataframe\">\n",
       "  <thead>\n",
       "    <tr style=\"text-align: right;\">\n",
       "      <th></th>\n",
       "      <th>연번</th>\n",
       "      <th>센터유형</th>\n",
       "      <th>센터명</th>\n",
       "      <th>운영기관</th>\n",
       "      <th>시설명</th>\n",
       "      <th>우편번호</th>\n",
       "      <th>주소</th>\n",
       "      <th>사무실전화번호</th>\n",
       "    </tr>\n",
       "  </thead>\n",
       "  <tbody>\n",
       "    <tr>\n",
       "      <th>0</th>\n",
       "      <td>1</td>\n",
       "      <td>중앙/권역</td>\n",
       "      <td>코로나19 중앙 예방접종센터</td>\n",
       "      <td>국립중앙의료원</td>\n",
       "      <td>국립중앙의료원 D동</td>\n",
       "      <td>4562</td>\n",
       "      <td>서울특별시 중구 을지로 39길 29</td>\n",
       "      <td>02-2260-7114</td>\n",
       "    </tr>\n",
       "    <tr>\n",
       "      <th>1</th>\n",
       "      <td>2</td>\n",
       "      <td>중앙/권역</td>\n",
       "      <td>코로나19 중부권역 예방접종센터</td>\n",
       "      <td>순천향대 천안병원</td>\n",
       "      <td>천안시 실내배드민턴장 1층</td>\n",
       "      <td>31212</td>\n",
       "      <td>충청남도 천안시 동남구 천안대로 357</td>\n",
       "      <td>NaN</td>\n",
       "    </tr>\n",
       "    <tr>\n",
       "      <th>2</th>\n",
       "      <td>3</td>\n",
       "      <td>중앙/권역</td>\n",
       "      <td>코로나19 호남권역 예방접종센터</td>\n",
       "      <td>조선대병원</td>\n",
       "      <td>조선대학교병원 의성관 5층</td>\n",
       "      <td>61452</td>\n",
       "      <td>광주광역시 동구 필문대로 365</td>\n",
       "      <td>062-220-3739</td>\n",
       "    </tr>\n",
       "    <tr>\n",
       "      <th>3</th>\n",
       "      <td>4</td>\n",
       "      <td>중앙/권역</td>\n",
       "      <td>코로나19 영남권역 예방접종센터</td>\n",
       "      <td>양산 부산대병원</td>\n",
       "      <td>양산 부산대병원 기숙사동 1층</td>\n",
       "      <td>50612</td>\n",
       "      <td>경상남도 양산시 물금읍 금오로 20</td>\n",
       "      <td>055-360-6701</td>\n",
       "    </tr>\n",
       "    <tr>\n",
       "      <th>4</th>\n",
       "      <td>5</td>\n",
       "      <td>지역</td>\n",
       "      <td>코로나19 대구광역시 중구 예방접종센터</td>\n",
       "      <td>NaN</td>\n",
       "      <td>계명대학교 대구동산병원 별관</td>\n",
       "      <td>41931</td>\n",
       "      <td>대구시 중구 달성로 56</td>\n",
       "      <td>053-661-3955</td>\n",
       "    </tr>\n",
       "  </tbody>\n",
       "</table>\n",
       "</div>"
      ],
      "text/plain": [
       "   연번   센터유형                    센터명       운영기관               시설명   우편번호  \\\n",
       "0   1  중앙/권역        코로나19 중앙 예방접종센터    국립중앙의료원        국립중앙의료원 D동   4562   \n",
       "1   2  중앙/권역      코로나19 중부권역 예방접종센터  순천향대 천안병원    천안시 실내배드민턴장 1층  31212   \n",
       "2   3  중앙/권역      코로나19 호남권역 예방접종센터      조선대병원    조선대학교병원 의성관 5층  61452   \n",
       "3   4  중앙/권역      코로나19 영남권역 예방접종센터   양산 부산대병원  양산 부산대병원 기숙사동 1층  50612   \n",
       "4   5     지역  코로나19 대구광역시 중구 예방접종센터        NaN   계명대학교 대구동산병원 별관  41931   \n",
       "\n",
       "                      주소       사무실전화번호  \n",
       "0    서울특별시 중구 을지로 39길 29  02-2260-7114  \n",
       "1  충청남도 천안시 동남구 천안대로 357           NaN  \n",
       "2      광주광역시 동구 필문대로 365  062-220-3739  \n",
       "3    경상남도 양산시 물금읍 금오로 20  055-360-6701  \n",
       "4          대구시 중구 달성로 56  053-661-3955  "
      ]
     },
     "execution_count": 24,
     "metadata": {},
     "output_type": "execute_result"
    }
   ],
   "source": [
    "import pandas as pd \n",
    "data = pd.read_csv('./공공데이터활용지원센터_코로나19 예방접종센터 현황_20210716.csv', encoding='cp949')\n",
    "data.head()"
   ]
  }
 ],
 "metadata": {
  "interpreter": {
   "hash": "aee8b7b246df8f9039afb4144a1f6fd8d2ca17a180786b69acc140d282b71a49"
  },
  "kernelspec": {
   "display_name": "Python 3.7.4 64-bit",
   "name": "python3"
  },
  "language_info": {
   "codemirror_mode": {
    "name": "ipython",
    "version": 3
   },
   "file_extension": ".py",
   "mimetype": "text/x-python",
   "name": "python",
   "nbconvert_exporter": "python",
   "pygments_lexer": "ipython3",
   "version": "3.7.4"
  },
  "orig_nbformat": 4
 },
 "nbformat": 4,
 "nbformat_minor": 2
}